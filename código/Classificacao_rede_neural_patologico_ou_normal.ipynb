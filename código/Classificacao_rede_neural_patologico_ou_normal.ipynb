{
 "cells": [
  {
   "cell_type": "code",
   "execution_count": 67,
   "id": "e7341663",
   "metadata": {},
   "outputs": [],
   "source": [
    "import tensorflow\n",
    "from sklearn.model_selection import train_test_split\n",
    "import pandas as pd\n",
    "import numpy as np\n",
    "from tensorflow import keras\n",
    "import matplotlib.pyplot as plt\n",
    "from sklearn.preprocessing import StandardScaler\n",
    "from sklearn.metrics import accuracy_score"
   ]
  },
  {
   "cell_type": "code",
   "execution_count": 2,
   "id": "a53f260f",
   "metadata": {},
   "outputs": [],
   "source": [
    "dados = pd.read_csv('../dados/dados_tratado.csv')"
   ]
  },
  {
   "cell_type": "code",
   "execution_count": 3,
   "id": "8789b1d3",
   "metadata": {},
   "outputs": [],
   "source": [
    "dados.diagnosis = dados.diagnosis.map(lambda x: 0 if x == 1 else 1)"
   ]
  },
  {
   "cell_type": "code",
   "execution_count": 48,
   "id": "6c21db11",
   "metadata": {},
   "outputs": [
    {
     "data": {
      "text/html": [
       "<div>\n",
       "<style scoped>\n",
       "    .dataframe tbody tr th:only-of-type {\n",
       "        vertical-align: middle;\n",
       "    }\n",
       "\n",
       "    .dataframe tbody tr th {\n",
       "        vertical-align: top;\n",
       "    }\n",
       "\n",
       "    .dataframe thead th {\n",
       "        text-align: right;\n",
       "    }\n",
       "</style>\n",
       "<table border=\"1\" class=\"dataframe\">\n",
       "  <thead>\n",
       "    <tr style=\"text-align: right;\">\n",
       "      <th></th>\n",
       "      <th>age</th>\n",
       "      <th>sex</th>\n",
       "      <th>height</th>\n",
       "      <th>weight</th>\n",
       "      <th>qrs_duration</th>\n",
       "      <th>p_r_interval</th>\n",
       "      <th>q_t_interval</th>\n",
       "      <th>t_interval</th>\n",
       "      <th>p_interval</th>\n",
       "      <th>qrs</th>\n",
       "      <th>T</th>\n",
       "      <th>P</th>\n",
       "      <th>QRST</th>\n",
       "      <th>heart_rate</th>\n",
       "      <th>q_wave</th>\n",
       "      <th>r_wave</th>\n",
       "      <th>s_wave</th>\n",
       "      <th>R_wave</th>\n",
       "      <th>S_wave</th>\n",
       "      <th>diagnosis</th>\n",
       "    </tr>\n",
       "  </thead>\n",
       "  <tbody>\n",
       "    <tr>\n",
       "      <th>0</th>\n",
       "      <td>75</td>\n",
       "      <td>0</td>\n",
       "      <td>190</td>\n",
       "      <td>80</td>\n",
       "      <td>91</td>\n",
       "      <td>193</td>\n",
       "      <td>371</td>\n",
       "      <td>174</td>\n",
       "      <td>121</td>\n",
       "      <td>-16</td>\n",
       "      <td>13</td>\n",
       "      <td>64</td>\n",
       "      <td>-2</td>\n",
       "      <td>63</td>\n",
       "      <td>0</td>\n",
       "      <td>52</td>\n",
       "      <td>44</td>\n",
       "      <td>0</td>\n",
       "      <td>0</td>\n",
       "      <td>1</td>\n",
       "    </tr>\n",
       "    <tr>\n",
       "      <th>1</th>\n",
       "      <td>56</td>\n",
       "      <td>1</td>\n",
       "      <td>165</td>\n",
       "      <td>64</td>\n",
       "      <td>81</td>\n",
       "      <td>174</td>\n",
       "      <td>401</td>\n",
       "      <td>149</td>\n",
       "      <td>39</td>\n",
       "      <td>25</td>\n",
       "      <td>37</td>\n",
       "      <td>-17</td>\n",
       "      <td>31</td>\n",
       "      <td>53</td>\n",
       "      <td>0</td>\n",
       "      <td>48</td>\n",
       "      <td>0</td>\n",
       "      <td>0</td>\n",
       "      <td>0</td>\n",
       "      <td>1</td>\n",
       "    </tr>\n",
       "    <tr>\n",
       "      <th>2</th>\n",
       "      <td>54</td>\n",
       "      <td>0</td>\n",
       "      <td>172</td>\n",
       "      <td>95</td>\n",
       "      <td>138</td>\n",
       "      <td>163</td>\n",
       "      <td>386</td>\n",
       "      <td>185</td>\n",
       "      <td>102</td>\n",
       "      <td>96</td>\n",
       "      <td>34</td>\n",
       "      <td>70</td>\n",
       "      <td>66</td>\n",
       "      <td>75</td>\n",
       "      <td>0</td>\n",
       "      <td>40</td>\n",
       "      <td>80</td>\n",
       "      <td>0</td>\n",
       "      <td>0</td>\n",
       "      <td>1</td>\n",
       "    </tr>\n",
       "    <tr>\n",
       "      <th>3</th>\n",
       "      <td>55</td>\n",
       "      <td>0</td>\n",
       "      <td>175</td>\n",
       "      <td>94</td>\n",
       "      <td>100</td>\n",
       "      <td>202</td>\n",
       "      <td>380</td>\n",
       "      <td>179</td>\n",
       "      <td>143</td>\n",
       "      <td>28</td>\n",
       "      <td>11</td>\n",
       "      <td>-5</td>\n",
       "      <td>20</td>\n",
       "      <td>71</td>\n",
       "      <td>0</td>\n",
       "      <td>72</td>\n",
       "      <td>20</td>\n",
       "      <td>0</td>\n",
       "      <td>0</td>\n",
       "      <td>0</td>\n",
       "    </tr>\n",
       "    <tr>\n",
       "      <th>4</th>\n",
       "      <td>13</td>\n",
       "      <td>0</td>\n",
       "      <td>169</td>\n",
       "      <td>51</td>\n",
       "      <td>100</td>\n",
       "      <td>167</td>\n",
       "      <td>321</td>\n",
       "      <td>174</td>\n",
       "      <td>91</td>\n",
       "      <td>107</td>\n",
       "      <td>66</td>\n",
       "      <td>52</td>\n",
       "      <td>88</td>\n",
       "      <td>84</td>\n",
       "      <td>0</td>\n",
       "      <td>36</td>\n",
       "      <td>48</td>\n",
       "      <td>0</td>\n",
       "      <td>0</td>\n",
       "      <td>1</td>\n",
       "    </tr>\n",
       "  </tbody>\n",
       "</table>\n",
       "</div>"
      ],
      "text/plain": [
       "   age  sex  height  weight  qrs_duration  p_r_interval  q_t_interval  \\\n",
       "0   75    0     190      80            91           193           371   \n",
       "1   56    1     165      64            81           174           401   \n",
       "2   54    0     172      95           138           163           386   \n",
       "3   55    0     175      94           100           202           380   \n",
       "4   13    0     169      51           100           167           321   \n",
       "\n",
       "   t_interval  p_interval  qrs   T   P  QRST  heart_rate  q_wave  r_wave  \\\n",
       "0         174         121  -16  13  64    -2          63       0      52   \n",
       "1         149          39   25  37 -17    31          53       0      48   \n",
       "2         185         102   96  34  70    66          75       0      40   \n",
       "3         179         143   28  11  -5    20          71       0      72   \n",
       "4         174          91  107  66  52    88          84       0      36   \n",
       "\n",
       "   s_wave  R_wave  S_wave  diagnosis  \n",
       "0      44       0       0          1  \n",
       "1       0       0       0          1  \n",
       "2      80       0       0          1  \n",
       "3      20       0       0          0  \n",
       "4      48       0       0          1  "
      ]
     },
     "execution_count": 48,
     "metadata": {},
     "output_type": "execute_result"
    }
   ],
   "source": [
    "dados.head()"
   ]
  },
  {
   "cell_type": "code",
   "execution_count": 201,
   "id": "54b999a1",
   "metadata": {},
   "outputs": [
    {
     "name": "stdout",
     "output_type": "stream",
     "text": [
      "<class 'pandas.core.frame.DataFrame'>\n",
      "RangeIndex: 420 entries, 0 to 419\n",
      "Data columns (total 20 columns):\n",
      " #   Column        Non-Null Count  Dtype\n",
      "---  ------        --------------  -----\n",
      " 0   age           420 non-null    int64\n",
      " 1   sex           420 non-null    int64\n",
      " 2   height        420 non-null    int64\n",
      " 3   weight        420 non-null    int64\n",
      " 4   qrs_duration  420 non-null    int64\n",
      " 5   p_r_interval  420 non-null    int64\n",
      " 6   q_t_interval  420 non-null    int64\n",
      " 7   t_interval    420 non-null    int64\n",
      " 8   p_interval    420 non-null    int64\n",
      " 9   qrs           420 non-null    int64\n",
      " 10  T             420 non-null    int64\n",
      " 11  P             420 non-null    int64\n",
      " 12  QRST          420 non-null    int64\n",
      " 13  heart_rate    420 non-null    int64\n",
      " 14  q_wave        420 non-null    int64\n",
      " 15  r_wave        420 non-null    int64\n",
      " 16  s_wave        420 non-null    int64\n",
      " 17  R_wave        420 non-null    int64\n",
      " 18  S_wave        420 non-null    int64\n",
      " 19  diagnosis     420 non-null    int64\n",
      "dtypes: int64(20)\n",
      "memory usage: 65.8 KB\n"
     ]
    }
   ],
   "source": [
    "dados.info()"
   ]
  },
  {
   "cell_type": "code",
   "execution_count": 5,
   "id": "a458a6da",
   "metadata": {},
   "outputs": [],
   "source": [
    "x = dados[['age', 'sex', 'height', 'weight', 'qrs_duration', 'p_r_interval', 'q_t_interval', 't_interval', 'p_interval',\n",
    "          'qrs', 'T', 'P', 'QRST', 'heart_rate', 'q_wave', 'r_wave', 's_wave', 'R_wave', 'S_wave']]\n",
    "y = dados['diagnosis']"
   ]
  },
  {
   "cell_type": "code",
   "execution_count": 6,
   "id": "f2a85401",
   "metadata": {},
   "outputs": [],
   "source": [
    "raw_treino_x, raw_teste_x, treino_y, teste_y = train_test_split(x, y, test_size= 0.25, stratify=y)\n",
    "scaler = StandardScaler()\n",
    "scaler.fit(raw_treino_x)\n",
    "treino_x = scaler.transform(raw_treino_x)\n",
    "teste_x = scaler.transform(raw_teste_x)"
   ]
  },
  {
   "cell_type": "code",
   "execution_count": 7,
   "id": "5ab129ca",
   "metadata": {},
   "outputs": [
    {
     "data": {
      "text/plain": [
       "array([[-1.17519681,  0.84930058, -0.28005755, ...,  0.7352736 ,\n",
       "        -0.05643326,  0.        ],\n",
       "       [-0.0683254 ,  0.84930058, -0.19737889, ..., -0.98319355,\n",
       "        -0.05643326,  0.        ],\n",
       "       [ 0.23913889, -1.17743944,  0.18845485, ...,  1.11715519,\n",
       "        -0.05643326,  0.        ],\n",
       "       ...,\n",
       "       [-1.29818252,  0.84930058, -0.14225979, ..., -0.98319355,\n",
       "        -0.05643326,  0.        ],\n",
       "       [-0.37578968, -1.17743944, -0.14225979, ..., -0.98319355,\n",
       "        -0.05643326,  0.        ],\n",
       "       [ 0.48511031,  0.84930058, -0.14225979, ..., -0.98319355,\n",
       "        -0.05643326,  0.        ]])"
      ]
     },
     "execution_count": 7,
     "metadata": {},
     "output_type": "execute_result"
    }
   ],
   "source": [
    "treino_x"
   ]
  },
  {
   "cell_type": "code",
   "execution_count": 8,
   "id": "644d1cfc",
   "metadata": {},
   "outputs": [],
   "source": [
    "tensor_treino_x = tensorflow.convert_to_tensor(treino_x)\n",
    "tensor_teste_x = tensorflow.convert_to_tensor(teste_x)\n",
    "tensor_treino_y = tensorflow.convert_to_tensor(treino_y)\n",
    "tensor_teste_y = tensorflow.convert_to_tensor(teste_y)"
   ]
  },
  {
   "cell_type": "code",
   "execution_count": 9,
   "id": "6ac430df",
   "metadata": {},
   "outputs": [
    {
     "data": {
      "text/plain": [
       "<tf.Tensor: shape=(315, 19), dtype=float64, numpy=\n",
       "array([[-1.17519681,  0.84930058, -0.28005755, ...,  0.7352736 ,\n",
       "        -0.05643326,  0.        ],\n",
       "       [-0.0683254 ,  0.84930058, -0.19737889, ..., -0.98319355,\n",
       "        -0.05643326,  0.        ],\n",
       "       [ 0.23913889, -1.17743944,  0.18845485, ...,  1.11715519,\n",
       "        -0.05643326,  0.        ],\n",
       "       ...,\n",
       "       [-1.29818252,  0.84930058, -0.14225979, ..., -0.98319355,\n",
       "        -0.05643326,  0.        ],\n",
       "       [-0.37578968, -1.17743944, -0.14225979, ..., -0.98319355,\n",
       "        -0.05643326,  0.        ],\n",
       "       [ 0.48511031,  0.84930058, -0.14225979, ..., -0.98319355,\n",
       "        -0.05643326,  0.        ]])>"
      ]
     },
     "execution_count": 9,
     "metadata": {},
     "output_type": "execute_result"
    }
   ],
   "source": [
    "tensor_treino_x"
   ]
  },
  {
   "cell_type": "code",
   "execution_count": 10,
   "id": "0d2c4013",
   "metadata": {},
   "outputs": [],
   "source": [
    "normalizer = tensorflow.keras.layers.Normalization(axis=-1)\n",
    "normalizer.adapt(tensor_treino_x)"
   ]
  },
  {
   "cell_type": "code",
   "execution_count": 175,
   "id": "871606d4",
   "metadata": {},
   "outputs": [],
   "source": [
    "# camadas\n",
    "model = keras.Sequential([\n",
    "    normalizer,\n",
    "    keras.layers.Dense(340, activation=tensorflow.nn.relu),\n",
    "    keras.layers.Dense(170, activation=tensorflow.nn.relu),\n",
    "    keras.layers.Dropout(0.2),\n",
    "    keras.layers.Dense(170, activation=tensorflow.nn.relu),\n",
    "    keras.layers.Dropout(0.2),\n",
    "    keras.layers.Dense(2, activation=tensorflow.nn.softmax)\n",
    "                         ])"
   ]
  },
  {
   "cell_type": "code",
   "execution_count": 176,
   "id": "fc7ca568",
   "metadata": {},
   "outputs": [],
   "source": [
    "model.compile(optimizer='adam', loss='sparse_categorical_crossentropy', metrics=['accuracy'])"
   ]
  },
  {
   "cell_type": "code",
   "execution_count": 199,
   "id": "0b261569",
   "metadata": {},
   "outputs": [
    {
     "name": "stdout",
     "output_type": "stream",
     "text": [
      "Epoch 1/10\n",
      "8/8 [==============================] - 0s 8ms/step - loss: 5.6505e-04 - accuracy: 1.0000 - val_loss: 4.6456 - val_accuracy: 0.6825\n",
      "Epoch 2/10\n",
      "8/8 [==============================] - 0s 5ms/step - loss: 8.8743e-04 - accuracy: 1.0000 - val_loss: 4.6631 - val_accuracy: 0.6825\n",
      "Epoch 3/10\n",
      "8/8 [==============================] - 0s 5ms/step - loss: 5.1266e-04 - accuracy: 1.0000 - val_loss: 4.6865 - val_accuracy: 0.6825\n",
      "Epoch 4/10\n",
      "8/8 [==============================] - 0s 4ms/step - loss: 7.4486e-04 - accuracy: 1.0000 - val_loss: 4.7456 - val_accuracy: 0.6667\n",
      "Epoch 5/10\n",
      "8/8 [==============================] - 0s 3ms/step - loss: 4.3946e-04 - accuracy: 1.0000 - val_loss: 4.7925 - val_accuracy: 0.6667\n",
      "Epoch 6/10\n",
      "8/8 [==============================] - 0s 5ms/step - loss: 2.5327e-04 - accuracy: 1.0000 - val_loss: 4.8254 - val_accuracy: 0.6667\n",
      "Epoch 7/10\n",
      "8/8 [==============================] - 0s 5ms/step - loss: 3.4846e-04 - accuracy: 1.0000 - val_loss: 4.8497 - val_accuracy: 0.6667\n",
      "Epoch 8/10\n",
      "8/8 [==============================] - 0s 4ms/step - loss: 2.3351e-04 - accuracy: 1.0000 - val_loss: 4.8681 - val_accuracy: 0.6667\n",
      "Epoch 9/10\n",
      "8/8 [==============================] - 0s 5ms/step - loss: 3.9822e-04 - accuracy: 1.0000 - val_loss: 4.8785 - val_accuracy: 0.6667\n",
      "Epoch 10/10\n",
      "8/8 [==============================] - 0s 5ms/step - loss: 3.8576e-04 - accuracy: 1.0000 - val_loss: 4.8898 - val_accuracy: 0.6667\n"
     ]
    },
    {
     "data": {
      "text/plain": [
       "<keras.callbacks.History at 0x139434111b0>"
      ]
     },
     "execution_count": 199,
     "metadata": {},
     "output_type": "execute_result"
    }
   ],
   "source": [
    "model.fit(tensor_treino_x, tensor_treino_y, epochs=10, validation_split=0.2)"
   ]
  },
  {
   "cell_type": "code",
   "execution_count": 69,
   "id": "e18e5b58",
   "metadata": {},
   "outputs": [
    {
     "name": "stdout",
     "output_type": "stream",
     "text": [
      "4/4 [==============================] - 0s 1ms/step\n"
     ]
    }
   ],
   "source": [
    "probabilidades = model.predict(tensor_teste_x)"
   ]
  },
  {
   "cell_type": "code",
   "execution_count": 70,
   "id": "163ac3fb",
   "metadata": {},
   "outputs": [],
   "source": [
    "previsoes = [np.argmax(probabilidade) for probabilidade in probabilidades]"
   ]
  },
  {
   "cell_type": "code",
   "execution_count": 74,
   "id": "18b9b95a",
   "metadata": {},
   "outputs": [],
   "source": [
    "pd.options.display.max_rows = None\n",
    "resultado_frame = pd.DataFrame({'Previsão': previsoes, 'Real': tensor_teste_y})"
   ]
  },
  {
   "cell_type": "code",
   "execution_count": 200,
   "id": "c83b8df7",
   "metadata": {},
   "outputs": [
    {
     "name": "stdout",
     "output_type": "stream",
     "text": [
      "4/4 [==============================] - 0s 2ms/step - loss: 1.8951 - accuracy: 0.7429\n",
      "perda teste: 1.8951495885849\n",
      "Acurácia teste: 0.7428571581840515\n"
     ]
    }
   ],
   "source": [
    "loss_test, accuracy_test = model.evaluate(tensor_teste_x, tensor_teste_y)\n",
    "print(f'perda teste: {loss_test}')\n",
    "print(f'Acurácia teste: {accuracy_test}')"
   ]
  }
 ],
 "metadata": {
  "kernelspec": {
   "display_name": "Python 3 (ipykernel)",
   "language": "python",
   "name": "python3"
  },
  "language_info": {
   "codemirror_mode": {
    "name": "ipython",
    "version": 3
   },
   "file_extension": ".py",
   "mimetype": "text/x-python",
   "name": "python",
   "nbconvert_exporter": "python",
   "pygments_lexer": "ipython3",
   "version": "3.10.9"
  }
 },
 "nbformat": 4,
 "nbformat_minor": 5
}
