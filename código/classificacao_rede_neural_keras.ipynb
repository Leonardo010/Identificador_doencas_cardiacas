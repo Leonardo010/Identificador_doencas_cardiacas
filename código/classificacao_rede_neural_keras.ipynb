{
 "cells": [
  {
   "cell_type": "code",
   "execution_count": 42,
   "id": "98765d0a",
   "metadata": {},
   "outputs": [],
   "source": [
    "import tensorflow\n",
    "from sklearn.model_selection import train_test_split\n",
    "import pandas as pd\n",
    "import numpy as np\n",
    "from tensorflow import keras\n",
    "import matplotlib.pyplot as plt\n",
    "from sklearn.preprocessing import StandardScaler"
   ]
  },
  {
   "cell_type": "code",
   "execution_count": 43,
   "id": "b9497864",
   "metadata": {},
   "outputs": [],
   "source": [
    "dados = pd.read_csv('../dados/dados_tratado.csv')"
   ]
  },
  {
   "cell_type": "code",
   "execution_count": 44,
   "id": "ea0da4de",
   "metadata": {},
   "outputs": [
    {
     "data": {
      "text/html": [
       "<div>\n",
       "<style scoped>\n",
       "    .dataframe tbody tr th:only-of-type {\n",
       "        vertical-align: middle;\n",
       "    }\n",
       "\n",
       "    .dataframe tbody tr th {\n",
       "        vertical-align: top;\n",
       "    }\n",
       "\n",
       "    .dataframe thead th {\n",
       "        text-align: right;\n",
       "    }\n",
       "</style>\n",
       "<table border=\"1\" class=\"dataframe\">\n",
       "  <thead>\n",
       "    <tr style=\"text-align: right;\">\n",
       "      <th></th>\n",
       "      <th>age</th>\n",
       "      <th>sex</th>\n",
       "      <th>height</th>\n",
       "      <th>weight</th>\n",
       "      <th>qrs_duration</th>\n",
       "      <th>p_r_interval</th>\n",
       "      <th>q_t_interval</th>\n",
       "      <th>t_interval</th>\n",
       "      <th>p_interval</th>\n",
       "      <th>qrs</th>\n",
       "      <th>T</th>\n",
       "      <th>P</th>\n",
       "      <th>QRST</th>\n",
       "      <th>heart_rate</th>\n",
       "      <th>q_wave</th>\n",
       "      <th>r_wave</th>\n",
       "      <th>s_wave</th>\n",
       "      <th>R_wave</th>\n",
       "      <th>S_wave</th>\n",
       "      <th>diagnosis</th>\n",
       "    </tr>\n",
       "  </thead>\n",
       "  <tbody>\n",
       "    <tr>\n",
       "      <th>0</th>\n",
       "      <td>75</td>\n",
       "      <td>0</td>\n",
       "      <td>190</td>\n",
       "      <td>80</td>\n",
       "      <td>91</td>\n",
       "      <td>193</td>\n",
       "      <td>371</td>\n",
       "      <td>174</td>\n",
       "      <td>121</td>\n",
       "      <td>-16</td>\n",
       "      <td>13</td>\n",
       "      <td>64</td>\n",
       "      <td>-2</td>\n",
       "      <td>63</td>\n",
       "      <td>0</td>\n",
       "      <td>52</td>\n",
       "      <td>44</td>\n",
       "      <td>0</td>\n",
       "      <td>0</td>\n",
       "      <td>8</td>\n",
       "    </tr>\n",
       "    <tr>\n",
       "      <th>1</th>\n",
       "      <td>56</td>\n",
       "      <td>1</td>\n",
       "      <td>165</td>\n",
       "      <td>64</td>\n",
       "      <td>81</td>\n",
       "      <td>174</td>\n",
       "      <td>401</td>\n",
       "      <td>149</td>\n",
       "      <td>39</td>\n",
       "      <td>25</td>\n",
       "      <td>37</td>\n",
       "      <td>-17</td>\n",
       "      <td>31</td>\n",
       "      <td>53</td>\n",
       "      <td>0</td>\n",
       "      <td>48</td>\n",
       "      <td>0</td>\n",
       "      <td>0</td>\n",
       "      <td>0</td>\n",
       "      <td>6</td>\n",
       "    </tr>\n",
       "    <tr>\n",
       "      <th>2</th>\n",
       "      <td>54</td>\n",
       "      <td>0</td>\n",
       "      <td>172</td>\n",
       "      <td>95</td>\n",
       "      <td>138</td>\n",
       "      <td>163</td>\n",
       "      <td>386</td>\n",
       "      <td>185</td>\n",
       "      <td>102</td>\n",
       "      <td>96</td>\n",
       "      <td>34</td>\n",
       "      <td>70</td>\n",
       "      <td>66</td>\n",
       "      <td>75</td>\n",
       "      <td>0</td>\n",
       "      <td>40</td>\n",
       "      <td>80</td>\n",
       "      <td>0</td>\n",
       "      <td>0</td>\n",
       "      <td>10</td>\n",
       "    </tr>\n",
       "    <tr>\n",
       "      <th>3</th>\n",
       "      <td>55</td>\n",
       "      <td>0</td>\n",
       "      <td>175</td>\n",
       "      <td>94</td>\n",
       "      <td>100</td>\n",
       "      <td>202</td>\n",
       "      <td>380</td>\n",
       "      <td>179</td>\n",
       "      <td>143</td>\n",
       "      <td>28</td>\n",
       "      <td>11</td>\n",
       "      <td>-5</td>\n",
       "      <td>20</td>\n",
       "      <td>71</td>\n",
       "      <td>0</td>\n",
       "      <td>72</td>\n",
       "      <td>20</td>\n",
       "      <td>0</td>\n",
       "      <td>0</td>\n",
       "      <td>1</td>\n",
       "    </tr>\n",
       "    <tr>\n",
       "      <th>4</th>\n",
       "      <td>13</td>\n",
       "      <td>0</td>\n",
       "      <td>169</td>\n",
       "      <td>51</td>\n",
       "      <td>100</td>\n",
       "      <td>167</td>\n",
       "      <td>321</td>\n",
       "      <td>174</td>\n",
       "      <td>91</td>\n",
       "      <td>107</td>\n",
       "      <td>66</td>\n",
       "      <td>52</td>\n",
       "      <td>88</td>\n",
       "      <td>84</td>\n",
       "      <td>0</td>\n",
       "      <td>36</td>\n",
       "      <td>48</td>\n",
       "      <td>0</td>\n",
       "      <td>0</td>\n",
       "      <td>14</td>\n",
       "    </tr>\n",
       "  </tbody>\n",
       "</table>\n",
       "</div>"
      ],
      "text/plain": [
       "   age  sex  height  weight  qrs_duration  p_r_interval  q_t_interval  \\\n",
       "0   75    0     190      80            91           193           371   \n",
       "1   56    1     165      64            81           174           401   \n",
       "2   54    0     172      95           138           163           386   \n",
       "3   55    0     175      94           100           202           380   \n",
       "4   13    0     169      51           100           167           321   \n",
       "\n",
       "   t_interval  p_interval  qrs   T   P  QRST  heart_rate  q_wave  r_wave  \\\n",
       "0         174         121  -16  13  64    -2          63       0      52   \n",
       "1         149          39   25  37 -17    31          53       0      48   \n",
       "2         185         102   96  34  70    66          75       0      40   \n",
       "3         179         143   28  11  -5    20          71       0      72   \n",
       "4         174          91  107  66  52    88          84       0      36   \n",
       "\n",
       "   s_wave  R_wave  S_wave  diagnosis  \n",
       "0      44       0       0          8  \n",
       "1       0       0       0          6  \n",
       "2      80       0       0         10  \n",
       "3      20       0       0          1  \n",
       "4      48       0       0         14  "
      ]
     },
     "execution_count": 44,
     "metadata": {},
     "output_type": "execute_result"
    }
   ],
   "source": [
    "dados.head()"
   ]
  },
  {
   "cell_type": "code",
   "execution_count": 45,
   "id": "d053460d",
   "metadata": {},
   "outputs": [],
   "source": [
    "x = dados[['age', 'sex', 'height', 'weight', 'qrs_duration', 'p_r_interval', 'q_t_interval', 't_interval', 'p_interval',\n",
    "          'qrs', 'T', 'P', 'QRST', 'heart_rate', 'q_wave', 'r_wave', 's_wave', 'R_wave', 'S_wave']]\n",
    "y = dados['diagnosis']"
   ]
  },
  {
   "cell_type": "code",
   "execution_count": null,
   "id": "aaf85ce9",
   "metadata": {},
   "outputs": [],
   "source": [
    "raw_treino_x, raw_teste_x, treino_y, teste_y = train_test_split(x, y, test_size= 0.25, stratify=y)\n",
    "scaler = StandardScaler()\n",
    "scaler.fit(raw_treino_x)\n",
    "treino_x = scaler.transform(raw_treino_x)\n",
    "teste_x = scaler.transform(raw_teste_x)"
   ]
  },
  {
   "cell_type": "code",
   "execution_count": 46,
   "id": "207110e4",
   "metadata": {
    "scrolled": true
   },
   "outputs": [
    {
     "data": {
      "text/plain": [
       "array([[-0.61123014, -1.1622161 ,  0.73202498, ..., -0.02139924,\n",
       "        -0.05643326,  0.        ],\n",
       "       [-1.03787227, -1.1622161 ,  0.25666147, ...,  0.59139716,\n",
       "        -0.05643326,  0.        ],\n",
       "       [-1.28166776,  0.86042518, -0.10900277, ...,  0.59139716,\n",
       "        -0.05643326,  0.        ],\n",
       "       ...,\n",
       "       [-0.85502564,  0.86042518, -0.03586992, ..., -1.04272657,\n",
       "        -0.05643326,  0.        ],\n",
       "       [ 0.42490073, -1.1622161 ,  0.1469622 , ...,  0.18286623,\n",
       "        17.72004515,  0.        ],\n",
       "       [-0.12363915, -1.1622161 ,  0.47606001, ..., -1.04272657,\n",
       "        -0.05643326,  0.        ]])"
      ]
     },
     "execution_count": 46,
     "metadata": {},
     "output_type": "execute_result"
    }
   ],
   "source": [
    "treino_x"
   ]
  },
  {
   "cell_type": "code",
   "execution_count": 47,
   "id": "24eaf277",
   "metadata": {},
   "outputs": [],
   "source": [
    "tensor_treino_x = tensorflow.convert_to_tensor(treino_x)\n",
    "tensor_teste_x = tensorflow.convert_to_tensor(teste_x)\n",
    "tensor_treino_y = tensorflow.convert_to_tensor(treino_y)\n",
    "tensor_teste_y = tensorflow.convert_to_tensor(teste_y)"
   ]
  },
  {
   "cell_type": "code",
   "execution_count": 48,
   "id": "ed5061a0",
   "metadata": {},
   "outputs": [
    {
     "data": {
      "text/plain": [
       "<tf.Tensor: shape=(315, 19), dtype=float64, numpy=\n",
       "array([[-0.61123014, -1.1622161 ,  0.73202498, ..., -0.02139924,\n",
       "        -0.05643326,  0.        ],\n",
       "       [-1.03787227, -1.1622161 ,  0.25666147, ...,  0.59139716,\n",
       "        -0.05643326,  0.        ],\n",
       "       [-1.28166776,  0.86042518, -0.10900277, ...,  0.59139716,\n",
       "        -0.05643326,  0.        ],\n",
       "       ...,\n",
       "       [-0.85502564,  0.86042518, -0.03586992, ..., -1.04272657,\n",
       "        -0.05643326,  0.        ],\n",
       "       [ 0.42490073, -1.1622161 ,  0.1469622 , ...,  0.18286623,\n",
       "        17.72004515,  0.        ],\n",
       "       [-0.12363915, -1.1622161 ,  0.47606001, ..., -1.04272657,\n",
       "        -0.05643326,  0.        ]])>"
      ]
     },
     "execution_count": 48,
     "metadata": {},
     "output_type": "execute_result"
    }
   ],
   "source": [
    "tensor_treino_x"
   ]
  },
  {
   "cell_type": "code",
   "execution_count": 49,
   "id": "55144e78",
   "metadata": {},
   "outputs": [],
   "source": [
    "normalizer = tensorflow.keras.layers.Normalization(axis=-1)\n",
    "normalizer.adapt(tensor_treino_x)"
   ]
  },
  {
   "cell_type": "code",
   "execution_count": 50,
   "id": "c411aef0",
   "metadata": {},
   "outputs": [],
   "source": [
    "# camadas\n",
    "model = keras.Sequential([\n",
    "    normalizer,\n",
    "    keras.layers.Dense(340, activation=tensorflow.nn.relu),\n",
    "    keras.layers.Dense(170, activation=tensorflow.nn.relu),\n",
    "    keras.layers.Dropout(0.2),\n",
    "    keras.layers.Dense(170, activation=tensorflow.nn.relu),\n",
    "    keras.layers.Dropout(0.2),\n",
    "    keras.layers.Dense(17, activation=tensorflow.nn.softmax)\n",
    "                         ])\n"
   ]
  },
  {
   "cell_type": "code",
   "execution_count": 51,
   "id": "503938be",
   "metadata": {},
   "outputs": [],
   "source": [
    "model.compile(optimizer='adam', loss='sparse_categorical_crossentropy', metrics=['accuracy'])"
   ]
  },
  {
   "cell_type": "code",
   "execution_count": 53,
   "id": "c7f0e3cd",
   "metadata": {},
   "outputs": [
    {
     "name": "stdout",
     "output_type": "stream",
     "text": [
      "Epoch 1/10\n",
      "8/8 [==============================] - 0s 8ms/step - loss: 0.8228 - accuracy: 0.7302 - val_loss: 1.2748 - val_accuracy: 0.6508\n",
      "Epoch 2/10\n",
      "8/8 [==============================] - 0s 6ms/step - loss: 0.7864 - accuracy: 0.7302 - val_loss: 1.2773 - val_accuracy: 0.6190\n",
      "Epoch 3/10\n",
      "8/8 [==============================] - 0s 5ms/step - loss: 0.7452 - accuracy: 0.7540 - val_loss: 1.2980 - val_accuracy: 0.6032\n",
      "Epoch 4/10\n",
      "8/8 [==============================] - 0s 5ms/step - loss: 0.6889 - accuracy: 0.7937 - val_loss: 1.3044 - val_accuracy: 0.6825\n",
      "Epoch 5/10\n",
      "8/8 [==============================] - 0s 5ms/step - loss: 0.6239 - accuracy: 0.7698 - val_loss: 1.2757 - val_accuracy: 0.6190\n",
      "Epoch 6/10\n",
      "8/8 [==============================] - 0s 5ms/step - loss: 0.5651 - accuracy: 0.8135 - val_loss: 1.2706 - val_accuracy: 0.6667\n",
      "Epoch 7/10\n",
      "8/8 [==============================] - 0s 5ms/step - loss: 0.5176 - accuracy: 0.8056 - val_loss: 1.3066 - val_accuracy: 0.6508\n",
      "Epoch 8/10\n",
      "8/8 [==============================] - 0s 5ms/step - loss: 0.5015 - accuracy: 0.8254 - val_loss: 1.3367 - val_accuracy: 0.6667\n",
      "Epoch 9/10\n",
      "8/8 [==============================] - 0s 5ms/step - loss: 0.4902 - accuracy: 0.8294 - val_loss: 1.3366 - val_accuracy: 0.6349\n",
      "Epoch 10/10\n",
      "8/8 [==============================] - 0s 5ms/step - loss: 0.4296 - accuracy: 0.8333 - val_loss: 1.3751 - val_accuracy: 0.6984\n"
     ]
    },
    {
     "data": {
      "text/plain": [
       "<keras.callbacks.History at 0x29e18ac9600>"
      ]
     },
     "execution_count": 53,
     "metadata": {},
     "output_type": "execute_result"
    }
   ],
   "source": [
    "model.fit(tensor_treino_x, tensor_treino_y, epochs=10, validation_split=0.2)"
   ]
  },
  {
   "cell_type": "code",
   "execution_count": 20,
   "id": "d91ba1fa",
   "metadata": {},
   "outputs": [
    {
     "data": {
      "text/plain": [
       "<tf.Tensor: shape=(105,), dtype=int64, numpy=\n",
       "array([ 1,  5,  4, 16,  2,  1,  1,  3,  6,  6,  1,  4,  1,  1,  4,  1, 10,\n",
       "        1, 16,  6,  6,  1,  1,  1,  1,  1,  2,  5,  2,  1,  1, 10, 10,  2,\n",
       "       10,  1,  7, 10, 10,  1,  2, 16,  3,  9,  1,  3,  1,  1,  1,  1,  1,\n",
       "        1,  1,  2,  1,  1,  1, 10, 16,  2,  1,  1,  2,  1,  1,  4, 10, 10,\n",
       "        1,  1,  1,  2,  1, 16, 10,  1,  6,  1,  1,  1, 10,  1,  1,  1,  1,\n",
       "        1,  1,  1, 10,  1,  1,  1,  6,  1,  1,  1,  1,  1,  1,  1,  1,  9,\n",
       "       14,  1,  5], dtype=int64)>"
      ]
     },
     "execution_count": 20,
     "metadata": {},
     "output_type": "execute_result"
    }
   ],
   "source": [
    "tensor_teste_y"
   ]
  },
  {
   "cell_type": "code",
   "execution_count": 21,
   "id": "010311b6",
   "metadata": {},
   "outputs": [
    {
     "name": "stdout",
     "output_type": "stream",
     "text": [
      "4/4 [==============================] - 0s 1ms/step\n"
     ]
    }
   ],
   "source": [
    "previsoes = model.predict(tensor_teste_x)"
   ]
  },
  {
   "cell_type": "code",
   "execution_count": 22,
   "id": "584bd080",
   "metadata": {},
   "outputs": [],
   "source": [
    "previsoes_lista = [np.argmax(previsao) for previsao in previsoes]"
   ]
  },
  {
   "cell_type": "code",
   "execution_count": 54,
   "id": "d4969b8c",
   "metadata": {},
   "outputs": [
    {
     "name": "stdout",
     "output_type": "stream",
     "text": [
      "4/4 [==============================] - 0s 2ms/step - loss: 1.4079 - accuracy: 0.6571\n",
      "perda teste: 1.407938003540039\n",
      "Acurácia teste: 0.6571428775787354\n"
     ]
    }
   ],
   "source": [
    "loss_test, accuracy_test = model.evaluate(tensor_teste_x, tensor_teste_y)\n",
    "print(f'perda teste: {loss_test}')\n",
    "print(f'Acurácia teste: {accuracy_test}')"
   ]
  }
 ],
 "metadata": {
  "kernelspec": {
   "display_name": "Python 3 (ipykernel)",
   "language": "python",
   "name": "python3"
  },
  "language_info": {
   "codemirror_mode": {
    "name": "ipython",
    "version": 3
   },
   "file_extension": ".py",
   "mimetype": "text/x-python",
   "name": "python",
   "nbconvert_exporter": "python",
   "pygments_lexer": "ipython3",
   "version": "3.10.9"
  }
 },
 "nbformat": 4,
 "nbformat_minor": 5
}
