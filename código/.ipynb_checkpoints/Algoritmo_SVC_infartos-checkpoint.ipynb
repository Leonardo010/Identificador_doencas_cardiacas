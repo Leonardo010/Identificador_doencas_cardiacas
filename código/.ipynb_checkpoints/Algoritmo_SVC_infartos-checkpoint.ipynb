{
 "cells": [
  {
   "cell_type": "markdown",
   "id": "b1a2a48e",
   "metadata": {},
   "source": [
    "A variável alvo será separada em:\n",
    "Antigo Infarto do Miocárdio Anterior e Infarto do Miocárdio Inferior Antigo: 1\n",
    "Outros: 0"
   ]
  },
  {
   "cell_type": "code",
   "execution_count": null,
   "id": "37b084a5",
   "metadata": {},
   "outputs": [],
   "source": []
  }
 ],
 "metadata": {
  "kernelspec": {
   "display_name": "Python 3 (ipykernel)",
   "language": "python",
   "name": "python3"
  },
  "language_info": {
   "codemirror_mode": {
    "name": "ipython",
    "version": 3
   },
   "file_extension": ".py",
   "mimetype": "text/x-python",
   "name": "python",
   "nbconvert_exporter": "python",
   "pygments_lexer": "ipython3",
   "version": "3.10.9"
  }
 },
 "nbformat": 4,
 "nbformat_minor": 5
}
