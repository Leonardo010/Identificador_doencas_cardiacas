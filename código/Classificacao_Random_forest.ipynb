{
 "cells": [
  {
   "cell_type": "code",
   "execution_count": 1,
   "id": "216b2077",
   "metadata": {},
   "outputs": [],
   "source": [
    "import pandas as pd\n",
    "import numpy as np"
   ]
  },
  {
   "cell_type": "code",
   "execution_count": 2,
   "id": "403cd03a",
   "metadata": {},
   "outputs": [],
   "source": [
    "dados = pd.read_csv('../dados/dados_tratado.csv')"
   ]
  },
  {
   "cell_type": "code",
   "execution_count": 3,
   "id": "89cb2d7e",
   "metadata": {},
   "outputs": [],
   "source": [
    "x = dados[['age', 'sex', 'weight', 'height', 'qrs_duration', 'p_r_interval', 'q_t_interval', 't_interval', 'p_interval',\n",
    "          'qrs', 'T', 'P', 'QRST', 'heart_rate', 'q_wave', 'r_wave', 's_wave', 'R_wave', 'S_wave']]\n",
    "y = dados['diagnosis']"
   ]
  },
  {
   "cell_type": "code",
   "execution_count": 4,
   "id": "8915dd5d",
   "metadata": {},
   "outputs": [],
   "source": [
    "from sklearn.model_selection import train_test_split\n",
    "from sklearn.metrics import accuracy_score\n",
    "from sklearn.ensemble import RandomForestClassifier\n",
    "from sklearn.preprocessing import StandardScaler"
   ]
  },
  {
   "cell_type": "code",
   "execution_count": 5,
   "id": "834011d4",
   "metadata": {},
   "outputs": [],
   "source": [
    "raw_treino_x, raw_teste_x, treino_y, teste_y = train_test_split(x, y, test_size= 0.25, stratify=y)\n",
    "scaler = StandardScaler()\n",
    "scaler.fit(raw_treino_x)\n",
    "treino_x = scaler.transform(raw_treino_x)\n",
    "teste_x = scaler.transform(raw_teste_x)"
   ]
  },
  {
   "cell_type": "code",
   "execution_count": 11,
   "id": "1133c571",
   "metadata": {},
   "outputs": [
    {
     "name": "stdout",
     "output_type": "stream",
     "text": [
      "Treinaremos com 315 elementos e testaremos com 105 elementos\n",
      "A acurácia foi 66.67%\n"
     ]
    }
   ],
   "source": [
    "SEED = 5\n",
    "np.random.seed(SEED)\n",
    "print(\"Treinaremos com %d elementos e testaremos com %d elementos\" % (len(treino_x), len(teste_x)))\n",
    "\n",
    "trees = RandomForestClassifier(random_state = SEED, n_estimators=500, n_jobs=-1)\n",
    "trees.fit(treino_x, treino_y)\n",
    "previsoes = trees.predict(teste_x)\n",
    "\n",
    "acuracia = accuracy_score(teste_y, previsoes) * 100\n",
    "print(\"A acurácia foi %.2f%%\" % acuracia)"
   ]
  },
  {
   "cell_type": "markdown",
   "id": "c9d72073",
   "metadata": {},
   "source": [
    "## Salvando Modelo"
   ]
  },
  {
   "cell_type": "code",
   "execution_count": 9,
   "id": "d4f9e62e",
   "metadata": {},
   "outputs": [],
   "source": [
    "import pickle"
   ]
  },
  {
   "cell_type": "code",
   "execution_count": 10,
   "id": "b84f04b4",
   "metadata": {},
   "outputs": [],
   "source": [
    "output = open('../salvando_modelos/modelo_cardiac_diseases', 'wb')\n",
    "pickle.dump(trees, output)\n",
    "output.close()"
   ]
  }
 ],
 "metadata": {
  "kernelspec": {
   "display_name": "Python 3 (ipykernel)",
   "language": "python",
   "name": "python3"
  },
  "language_info": {
   "codemirror_mode": {
    "name": "ipython",
    "version": 3
   },
   "file_extension": ".py",
   "mimetype": "text/x-python",
   "name": "python",
   "nbconvert_exporter": "python",
   "pygments_lexer": "ipython3",
   "version": "3.10.9"
  }
 },
 "nbformat": 4,
 "nbformat_minor": 5
}
